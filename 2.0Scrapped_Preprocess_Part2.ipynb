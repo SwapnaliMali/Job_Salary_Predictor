{
 "cells": [
  {
   "cell_type": "code",
   "execution_count": 1,
   "metadata": {},
   "outputs": [],
   "source": [
    "import string, re\n",
    "\n",
    "import pandas as pd\n",
    "import numpy as np\n",
    "import matplotlib.pyplot as plt\n",
    "import seaborn as sns\n",
    "%matplotlib inline\n",
    "np.random.seed(0)\n",
    "\n",
    "import warnings\n",
    "warnings.simplefilter('ignore')"
   ]
  },
  {
   "cell_type": "code",
   "execution_count": 2,
   "metadata": {},
   "outputs": [
    {
     "data": {
      "text/html": [
       "<div>\n",
       "<style scoped>\n",
       "    .dataframe tbody tr th:only-of-type {\n",
       "        vertical-align: middle;\n",
       "    }\n",
       "\n",
       "    .dataframe tbody tr th {\n",
       "        vertical-align: top;\n",
       "    }\n",
       "\n",
       "    .dataframe thead th {\n",
       "        text-align: right;\n",
       "    }\n",
       "</style>\n",
       "<table border=\"1\" class=\"dataframe\">\n",
       "  <thead>\n",
       "    <tr style=\"text-align: right;\">\n",
       "      <th></th>\n",
       "      <th>Title</th>\n",
       "      <th>Company</th>\n",
       "      <th>Link</th>\n",
       "      <th>Review</th>\n",
       "      <th>Salary</th>\n",
       "      <th>Description</th>\n",
       "    </tr>\n",
       "  </thead>\n",
       "  <tbody>\n",
       "    <tr>\n",
       "      <th>0</th>\n",
       "      <td>Front End Developer ( Angular )</td>\n",
       "      <td>HP</td>\n",
       "      <td>https://in.indeed.com/pagead/clk?mo=r&amp;ad=-6NYl...</td>\n",
       "      <td>4.0</td>\n",
       "      <td>None</td>\n",
       "      <td>At HP, talent is our criteria. Join us in rein...</td>\n",
       "    </tr>\n",
       "    <tr>\n",
       "      <th>1</th>\n",
       "      <td>ECM Developer</td>\n",
       "      <td>NetApp</td>\n",
       "      <td>https://in.indeed.com/rc/clk?jk=2af5c0e9f9acb3...</td>\n",
       "      <td>4.1</td>\n",
       "      <td>None</td>\n",
       "      <td>Job Summary\\n\\nAs a Programmer Analyst 3 you a...</td>\n",
       "    </tr>\n",
       "    <tr>\n",
       "      <th>2</th>\n",
       "      <td>Developer 2, Microstrategy</td>\n",
       "      <td>Alliance Data</td>\n",
       "      <td>https://in.indeed.com/rc/clk?jk=12bdf50d683198...</td>\n",
       "      <td>3.6</td>\n",
       "      <td>None</td>\n",
       "      <td>It's fun to work in a company where people tru...</td>\n",
       "    </tr>\n",
       "    <tr>\n",
       "      <th>3</th>\n",
       "      <td>Odoo software developer</td>\n",
       "      <td>Charis Software</td>\n",
       "      <td>https://in.indeed.com/rc/clk?jk=21da11b38fc05a...</td>\n",
       "      <td>None</td>\n",
       "      <td>None</td>\n",
       "      <td>Overview:\\nWe are looking for a skilled Odoo s...</td>\n",
       "    </tr>\n",
       "    <tr>\n",
       "      <th>4</th>\n",
       "      <td>Backend Developer</td>\n",
       "      <td>SatSure Analytics India Private Limited</td>\n",
       "      <td>https://in.indeed.com/company/SatSure-Analytic...</td>\n",
       "      <td>None</td>\n",
       "      <td>₹6,00,000 a year</td>\n",
       "      <td>Responsibilities Include:\\nCollaborating with ...</td>\n",
       "    </tr>\n",
       "  </tbody>\n",
       "</table>\n",
       "</div>"
      ],
      "text/plain": [
       "                             Title                                  Company  \\\n",
       "0  Front End Developer ( Angular )                                       HP   \n",
       "1                    ECM Developer                                   NetApp   \n",
       "2       Developer 2, Microstrategy                            Alliance Data   \n",
       "3          Odoo software developer                          Charis Software   \n",
       "4                Backend Developer  SatSure Analytics India Private Limited   \n",
       "\n",
       "                                                Link Review            Salary  \\\n",
       "0  https://in.indeed.com/pagead/clk?mo=r&ad=-6NYl...    4.0              None   \n",
       "1  https://in.indeed.com/rc/clk?jk=2af5c0e9f9acb3...    4.1              None   \n",
       "2  https://in.indeed.com/rc/clk?jk=12bdf50d683198...    3.6              None   \n",
       "3  https://in.indeed.com/rc/clk?jk=21da11b38fc05a...   None              None   \n",
       "4  https://in.indeed.com/company/SatSure-Analytic...   None  ₹6,00,000 a year   \n",
       "\n",
       "                                         Description  \n",
       "0  At HP, talent is our criteria. Join us in rein...  \n",
       "1  Job Summary\\n\\nAs a Programmer Analyst 3 you a...  \n",
       "2  It's fun to work in a company where people tru...  \n",
       "3  Overview:\\nWe are looking for a skilled Odoo s...  \n",
       "4  Responsibilities Include:\\nCollaborating with ...  "
      ]
     },
     "execution_count": 2,
     "metadata": {},
     "output_type": "execute_result"
    }
   ],
   "source": [
    "# df2 = pd.read_csv('job_scrapped_2.csv')\n",
    "df = pd.read_csv('job_scrapped.csv')\n",
    "df.head()"
   ]
  },
  {
   "cell_type": "markdown",
   "metadata": {},
   "source": [
    "## Analysis"
   ]
  },
  {
   "cell_type": "code",
   "execution_count": 3,
   "metadata": {},
   "outputs": [],
   "source": [
    "df2 = df.copy()"
   ]
  },
  {
   "cell_type": "code",
   "execution_count": 4,
   "metadata": {},
   "outputs": [
    {
     "name": "stdout",
     "output_type": "stream",
     "text": [
      "<class 'pandas.core.frame.DataFrame'>\n",
      "RangeIndex: 132 entries, 0 to 131\n",
      "Data columns (total 6 columns):\n",
      " #   Column       Non-Null Count  Dtype \n",
      "---  ------       --------------  ----- \n",
      " 0   Title        132 non-null    object\n",
      " 1   Company      132 non-null    object\n",
      " 2   Link         132 non-null    object\n",
      " 3   Review       132 non-null    object\n",
      " 4   Salary       132 non-null    object\n",
      " 5   Description  132 non-null    object\n",
      "dtypes: object(6)\n",
      "memory usage: 6.3+ KB\n"
     ]
    }
   ],
   "source": [
    "df2.info()"
   ]
  },
  {
   "cell_type": "code",
   "execution_count": 5,
   "metadata": {},
   "outputs": [
    {
     "data": {
      "text/plain": [
       "array(['Front End Developer ( Angular )', 'ECM Developer',\n",
       "       'Developer 2, Microstrategy', 'Odoo software developer',\n",
       "       'Backend Developer', 'Machine Learning Developer',\n",
       "       'Java/J2EE Developer', 'Senior JavaScript Developer',\n",
       "       'JAVA Backend Developer_Chennai (Experience- 4 to 10years)',\n",
       "       'Technical Specialist', 'JavaScript Developer(WEB-UI)',\n",
       "       'Java Back End Developer', 'Front End Developer', 'PHP Fresher',\n",
       "       'IOS Developer', 'Salesforce Commerce Cloud Developer',\n",
       "       'Node js developer', 'PHP Developer (intern)',\n",
       "       'Senior Software Engineer', 'Python/Django Developer',\n",
       "       'Engineering & Architecture - Full Stack Developer - VP - Ben...',\n",
       "       'FULL STACK JAVA DEVELOPER', 'Principal Application Developer',\n",
       "       'PHP Laravel Developer', 'Dev Ops Manager',\n",
       "       'Python Django / Azure Application Developer (Mid-Senior Cons...',\n",
       "       'Java Developer',\n",
       "       'Full Stack Azure Application Developer (Mid-Senior Consultan...',\n",
       "       'Full Stack Dot Net Developer', 'Lead Web Developer',\n",
       "       'Software Developer 4', 'MEAN Stack Developer',\n",
       "       'Angular Devloper - Trainee', '.Net Full Stack Developer',\n",
       "       'Software Engineering - Java Developer', 'Software Developer',\n",
       "       'Software Engineering- Java Full Stack Developer - Mumbai',\n",
       "       'Full Stack Developer', 'Solutions Developer Internship',\n",
       "       'Associate UX Specialist'], dtype=object)"
      ]
     },
     "execution_count": 5,
     "metadata": {},
     "output_type": "execute_result"
    }
   ],
   "source": [
    "df2.Title.unique()"
   ]
  },
  {
   "cell_type": "code",
   "execution_count": 6,
   "metadata": {},
   "outputs": [
    {
     "data": {
      "text/plain": [
       "array(['HP', 'NetApp', 'Alliance Data', 'Charis Software',\n",
       "       'SatSure Analytics India Private Limited', 'Punchh',\n",
       "       'Sminetech Solutions Pvt Ltd', 'Dassault Systèmes',\n",
       "       'Infoway Group', 'NI Network Infrastructure',\n",
       "       'eifer software solutions', 'Omnicuris Healthcare Pvt Ltd',\n",
       "       'RyDigi E-Commerce', 'Fermion Infotech Private Limited',\n",
       "       'SemiDot Infotech', 'Merkle Sokrati',\n",
       "       'Techflinch Infotech PVT. LTD',\n",
       "       'Vedhas Technology Solutions Pvt Ltd', 'Sarathi Softech Pvt Ltd',\n",
       "       'Stunntech Innovations', 'JPMorgan Chase Bank, N.A.', 'DIS-HR',\n",
       "       'Oracle', 'BINALYTO DATA SERVICES PVT. LTD.', 'Vedhas Resources',\n",
       "       'People Interactive Pvt Ltd.', 'ERM Group', 'AIT TECHNOLOGIES',\n",
       "       'Flexi Ventures Private Limited',\n",
       "       'Codeclouds IT Solutions Pvt. Ltd',\n",
       "       'Webomaze Technologies Pvt Ltd',\n",
       "       'eBizneeds Business Solutions Private Limited',\n",
       "       'Industrial Growth Analytik Info Techniqs',\n",
       "       'Quess IT Staffing (Formerly known as Magna Infotech)',\n",
       "       'FAZE THREE LIMITED', 'Think Analytics India', 'Incentius',\n",
       "       'BOEING'], dtype=object)"
      ]
     },
     "execution_count": 6,
     "metadata": {},
     "output_type": "execute_result"
    }
   ],
   "source": [
    "df2.Company.unique()"
   ]
  },
  {
   "cell_type": "code",
   "execution_count": 7,
   "metadata": {},
   "outputs": [
    {
     "data": {
      "text/plain": [
       "array(['None', '₹6,00,000 a year', '₹3,50,000 - ₹5,00,000 a year',\n",
       "       '₹4,00,000 - ₹10,00,000 a year', '₹10,00,000 - ₹12,00,000 a year',\n",
       "       '₹10,000 - ₹12,000 a month', '₹2,00,000 a year',\n",
       "       '₹10,000 - ₹20,000 a month', '₹8,00,000 - ₹16,00,000 a year',\n",
       "       '₹12,844 - ₹40,902 a month', '₹15,000 a month',\n",
       "       '₹20,000 - ₹40,000 a month', '₹2,73,870 - ₹12,74,484 a year',\n",
       "       '₹3,60,000 - ₹5,00,000 a year', '₹15,000 - ₹70,000 a month',\n",
       "       '₹4,00,000 - ₹6,50,000 a year', '₹10,000 a month',\n",
       "       '₹30,000 - ₹45,000 a month'], dtype=object)"
      ]
     },
     "execution_count": 7,
     "metadata": {},
     "output_type": "execute_result"
    }
   ],
   "source": [
    "df2.Salary.unique()"
   ]
  },
  {
   "cell_type": "code",
   "execution_count": 8,
   "metadata": {},
   "outputs": [
    {
     "data": {
      "text/plain": [
       "(132, 6)"
      ]
     },
     "execution_count": 8,
     "metadata": {},
     "output_type": "execute_result"
    }
   ],
   "source": [
    "# salary_df = df2[df2['Salary']!= 'None']\n",
    "salary_df =df2.replace('None',0) # fill all none value with 0\n",
    "salary_df.shape"
   ]
  },
  {
   "cell_type": "code",
   "execution_count": 9,
   "metadata": {},
   "outputs": [
    {
     "data": {
      "text/html": [
       "<div>\n",
       "<style scoped>\n",
       "    .dataframe tbody tr th:only-of-type {\n",
       "        vertical-align: middle;\n",
       "    }\n",
       "\n",
       "    .dataframe tbody tr th {\n",
       "        vertical-align: top;\n",
       "    }\n",
       "\n",
       "    .dataframe thead th {\n",
       "        text-align: right;\n",
       "    }\n",
       "</style>\n",
       "<table border=\"1\" class=\"dataframe\">\n",
       "  <thead>\n",
       "    <tr style=\"text-align: right;\">\n",
       "      <th></th>\n",
       "      <th>Title</th>\n",
       "      <th>Company</th>\n",
       "      <th>Link</th>\n",
       "      <th>Review</th>\n",
       "      <th>Salary</th>\n",
       "      <th>Description</th>\n",
       "    </tr>\n",
       "  </thead>\n",
       "  <tbody>\n",
       "    <tr>\n",
       "      <th>0</th>\n",
       "      <td>Front End Developer ( Angular )</td>\n",
       "      <td>HP</td>\n",
       "      <td>https://in.indeed.com/pagead/clk?mo=r&amp;ad=-6NYl...</td>\n",
       "      <td>4.0</td>\n",
       "      <td>0</td>\n",
       "      <td>At HP, talent is our criteria. Join us in rein...</td>\n",
       "    </tr>\n",
       "    <tr>\n",
       "      <th>1</th>\n",
       "      <td>ECM Developer</td>\n",
       "      <td>NetApp</td>\n",
       "      <td>https://in.indeed.com/rc/clk?jk=2af5c0e9f9acb3...</td>\n",
       "      <td>4.1</td>\n",
       "      <td>0</td>\n",
       "      <td>Job Summary\\n\\nAs a Programmer Analyst 3 you a...</td>\n",
       "    </tr>\n",
       "    <tr>\n",
       "      <th>2</th>\n",
       "      <td>Developer 2, Microstrategy</td>\n",
       "      <td>Alliance Data</td>\n",
       "      <td>https://in.indeed.com/rc/clk?jk=12bdf50d683198...</td>\n",
       "      <td>3.6</td>\n",
       "      <td>0</td>\n",
       "      <td>It's fun to work in a company where people tru...</td>\n",
       "    </tr>\n",
       "    <tr>\n",
       "      <th>3</th>\n",
       "      <td>Odoo software developer</td>\n",
       "      <td>Charis Software</td>\n",
       "      <td>https://in.indeed.com/rc/clk?jk=21da11b38fc05a...</td>\n",
       "      <td>0</td>\n",
       "      <td>0</td>\n",
       "      <td>Overview:\\nWe are looking for a skilled Odoo s...</td>\n",
       "    </tr>\n",
       "    <tr>\n",
       "      <th>4</th>\n",
       "      <td>Backend Developer</td>\n",
       "      <td>SatSure Analytics India Private Limited</td>\n",
       "      <td>https://in.indeed.com/company/SatSure-Analytic...</td>\n",
       "      <td>0</td>\n",
       "      <td>₹6,00,000 a year</td>\n",
       "      <td>Responsibilities Include:\\nCollaborating with ...</td>\n",
       "    </tr>\n",
       "  </tbody>\n",
       "</table>\n",
       "</div>"
      ],
      "text/plain": [
       "                             Title                                  Company  \\\n",
       "0  Front End Developer ( Angular )                                       HP   \n",
       "1                    ECM Developer                                   NetApp   \n",
       "2       Developer 2, Microstrategy                            Alliance Data   \n",
       "3          Odoo software developer                          Charis Software   \n",
       "4                Backend Developer  SatSure Analytics India Private Limited   \n",
       "\n",
       "                                                Link Review            Salary  \\\n",
       "0  https://in.indeed.com/pagead/clk?mo=r&ad=-6NYl...    4.0                 0   \n",
       "1  https://in.indeed.com/rc/clk?jk=2af5c0e9f9acb3...    4.1                 0   \n",
       "2  https://in.indeed.com/rc/clk?jk=12bdf50d683198...    3.6                 0   \n",
       "3  https://in.indeed.com/rc/clk?jk=21da11b38fc05a...      0                 0   \n",
       "4  https://in.indeed.com/company/SatSure-Analytic...      0  ₹6,00,000 a year   \n",
       "\n",
       "                                         Description  \n",
       "0  At HP, talent is our criteria. Join us in rein...  \n",
       "1  Job Summary\\n\\nAs a Programmer Analyst 3 you a...  \n",
       "2  It's fun to work in a company where people tru...  \n",
       "3  Overview:\\nWe are looking for a skilled Odoo s...  \n",
       "4  Responsibilities Include:\\nCollaborating with ...  "
      ]
     },
     "execution_count": 9,
     "metadata": {},
     "output_type": "execute_result"
    }
   ],
   "source": [
    "salary_df.head()"
   ]
  },
  {
   "cell_type": "code",
   "execution_count": 10,
   "metadata": {},
   "outputs": [
    {
     "name": "stdout",
     "output_type": "stream",
     "text": [
      "<class 'pandas.core.frame.DataFrame'>\n",
      "RangeIndex: 132 entries, 0 to 131\n",
      "Data columns (total 6 columns):\n",
      " #   Column       Non-Null Count  Dtype \n",
      "---  ------       --------------  ----- \n",
      " 0   Title        132 non-null    object\n",
      " 1   Company      132 non-null    object\n",
      " 2   Link         132 non-null    object\n",
      " 3   Review       132 non-null    object\n",
      " 4   Salary       132 non-null    object\n",
      " 5   Description  132 non-null    object\n",
      "dtypes: object(6)\n",
      "memory usage: 6.3+ KB\n"
     ]
    }
   ],
   "source": [
    "salary_df.info()"
   ]
  },
  {
   "cell_type": "code",
   "execution_count": 11,
   "metadata": {},
   "outputs": [],
   "source": [
    "salary_list = salary_df['Salary'].unique().tolist()"
   ]
  },
  {
   "cell_type": "markdown",
   "metadata": {},
   "source": [
    "### Adjust Hourly and Daily Salary to Yearly"
   ]
  },
  {
   "cell_type": "code",
   "execution_count": 12,
   "metadata": {},
   "outputs": [],
   "source": [
    "\n",
    "def salary_base(x):\n",
    "    y=\"\"\n",
    "    if \"year\" in str(x):\n",
    "        y = \"Yearly\"\n",
    "    if \"hour\" in str(x):\n",
    "        y = \"Hourly\"\n",
    "    if \"day\" in str(x):\n",
    "        y = \"Daily\"\n",
    "    elif \"month\" in str(x):\n",
    "        y = \"Monthly\"\n",
    "    \n",
    "    return y"
   ]
  },
  {
   "cell_type": "code",
   "execution_count": 13,
   "metadata": {},
   "outputs": [],
   "source": [
    "salary_df['Rate_by'] = salary_df['Salary'].apply(salary_base)"
   ]
  },
  {
   "cell_type": "code",
   "execution_count": 14,
   "metadata": {},
   "outputs": [],
   "source": [
    "salary_df = salary_df[salary_df['Rate_by']!=\"\"]\n",
    "salary_df = salary_df.reset_index(drop=True)"
   ]
  },
  {
   "cell_type": "code",
   "execution_count": 15,
   "metadata": {},
   "outputs": [
    {
     "data": {
      "text/plain": [
       "Rate_by\n",
       "Monthly    28\n",
       "Yearly     30\n",
       "Name: Salary, dtype: int64"
      ]
     },
     "execution_count": 15,
     "metadata": {},
     "output_type": "execute_result"
    }
   ],
   "source": [
    "salary_df.groupby('Rate_by').Salary.count()"
   ]
  },
  {
   "cell_type": "code",
   "execution_count": 16,
   "metadata": {},
   "outputs": [
    {
     "data": {
      "text/plain": [
       "(58, 7)"
      ]
     },
     "execution_count": 16,
     "metadata": {},
     "output_type": "execute_result"
    }
   ],
   "source": [
    "salary_df.shape"
   ]
  },
  {
   "cell_type": "markdown",
   "metadata": {},
   "source": [
    "## Split the cell and use regular expression to identify only numbers."
   ]
  },
  {
   "cell_type": "code",
   "execution_count": 17,
   "metadata": {},
   "outputs": [
    {
     "name": "stdout",
     "output_type": "stream",
     "text": [
      "['₹6,00,000']\n"
     ]
    }
   ],
   "source": [
    "a = \"₹6,00,000 a year\" \n",
    "# b = \"From $10,00,000 a year a year\" \n",
    "\n",
    "pattern = '\\₹[0-9]*[.,]?[0-9]*[.,]?[0-9][.,]?[0-9][.,]?[0-9]'\n",
    "p = re.compile(pattern)\n",
    "digits = p.findall(a)\n",
    "print(digits)"
   ]
  },
  {
   "cell_type": "code",
   "execution_count": null,
   "metadata": {},
   "outputs": [],
   "source": []
  },
  {
   "cell_type": "code",
   "execution_count": null,
   "metadata": {},
   "outputs": [],
   "source": []
  },
  {
   "cell_type": "code",
   "execution_count": 18,
   "metadata": {
    "scrolled": true
   },
   "outputs": [
    {
     "data": {
      "text/html": [
       "<div>\n",
       "<style scoped>\n",
       "    .dataframe tbody tr th:only-of-type {\n",
       "        vertical-align: middle;\n",
       "    }\n",
       "\n",
       "    .dataframe tbody tr th {\n",
       "        vertical-align: top;\n",
       "    }\n",
       "\n",
       "    .dataframe thead th {\n",
       "        text-align: right;\n",
       "    }\n",
       "</style>\n",
       "<table border=\"1\" class=\"dataframe\">\n",
       "  <thead>\n",
       "    <tr style=\"text-align: right;\">\n",
       "      <th></th>\n",
       "      <th>Rate_by</th>\n",
       "      <th>low</th>\n",
       "      <th>high</th>\n",
       "    </tr>\n",
       "  </thead>\n",
       "  <tbody>\n",
       "    <tr>\n",
       "      <th>0</th>\n",
       "      <td>Yearly</td>\n",
       "      <td>₹6,00,000 a year</td>\n",
       "      <td>None</td>\n",
       "    </tr>\n",
       "    <tr>\n",
       "      <th>1</th>\n",
       "      <td>Yearly</td>\n",
       "      <td>₹3,50,000</td>\n",
       "      <td>₹5,00,000 a year</td>\n",
       "    </tr>\n",
       "    <tr>\n",
       "      <th>2</th>\n",
       "      <td>Yearly</td>\n",
       "      <td>₹4,00,000</td>\n",
       "      <td>₹10,00,000 a year</td>\n",
       "    </tr>\n",
       "    <tr>\n",
       "      <th>3</th>\n",
       "      <td>Yearly</td>\n",
       "      <td>₹10,00,000</td>\n",
       "      <td>₹12,00,000 a year</td>\n",
       "    </tr>\n",
       "    <tr>\n",
       "      <th>4</th>\n",
       "      <td>Monthly</td>\n",
       "      <td>₹10,000</td>\n",
       "      <td>₹12,000 a month</td>\n",
       "    </tr>\n",
       "    <tr>\n",
       "      <th>5</th>\n",
       "      <td>Yearly</td>\n",
       "      <td>₹2,00,000 a year</td>\n",
       "      <td>None</td>\n",
       "    </tr>\n",
       "    <tr>\n",
       "      <th>6</th>\n",
       "      <td>Monthly</td>\n",
       "      <td>₹10,000</td>\n",
       "      <td>₹20,000 a month</td>\n",
       "    </tr>\n",
       "    <tr>\n",
       "      <th>7</th>\n",
       "      <td>Yearly</td>\n",
       "      <td>₹8,00,000</td>\n",
       "      <td>₹16,00,000 a year</td>\n",
       "    </tr>\n",
       "    <tr>\n",
       "      <th>8</th>\n",
       "      <td>Monthly</td>\n",
       "      <td>₹12,844</td>\n",
       "      <td>₹40,902 a month</td>\n",
       "    </tr>\n",
       "    <tr>\n",
       "      <th>9</th>\n",
       "      <td>Monthly</td>\n",
       "      <td>₹15,000 a month</td>\n",
       "      <td>None</td>\n",
       "    </tr>\n",
       "    <tr>\n",
       "      <th>10</th>\n",
       "      <td>Monthly</td>\n",
       "      <td>₹10,000</td>\n",
       "      <td>₹20,000 a month</td>\n",
       "    </tr>\n",
       "    <tr>\n",
       "      <th>11</th>\n",
       "      <td>Monthly</td>\n",
       "      <td>₹20,000</td>\n",
       "      <td>₹40,000 a month</td>\n",
       "    </tr>\n",
       "    <tr>\n",
       "      <th>12</th>\n",
       "      <td>Yearly</td>\n",
       "      <td>₹2,73,870</td>\n",
       "      <td>₹12,74,484 a year</td>\n",
       "    </tr>\n",
       "    <tr>\n",
       "      <th>13</th>\n",
       "      <td>Yearly</td>\n",
       "      <td>₹6,00,000 a year</td>\n",
       "      <td>None</td>\n",
       "    </tr>\n",
       "    <tr>\n",
       "      <th>14</th>\n",
       "      <td>Yearly</td>\n",
       "      <td>₹3,50,000</td>\n",
       "      <td>₹5,00,000 a year</td>\n",
       "    </tr>\n",
       "    <tr>\n",
       "      <th>15</th>\n",
       "      <td>Yearly</td>\n",
       "      <td>₹4,00,000</td>\n",
       "      <td>₹10,00,000 a year</td>\n",
       "    </tr>\n",
       "    <tr>\n",
       "      <th>16</th>\n",
       "      <td>Yearly</td>\n",
       "      <td>₹10,00,000</td>\n",
       "      <td>₹12,00,000 a year</td>\n",
       "    </tr>\n",
       "    <tr>\n",
       "      <th>17</th>\n",
       "      <td>Monthly</td>\n",
       "      <td>₹10,000</td>\n",
       "      <td>₹12,000 a month</td>\n",
       "    </tr>\n",
       "    <tr>\n",
       "      <th>18</th>\n",
       "      <td>Yearly</td>\n",
       "      <td>₹2,00,000 a year</td>\n",
       "      <td>None</td>\n",
       "    </tr>\n",
       "    <tr>\n",
       "      <th>19</th>\n",
       "      <td>Monthly</td>\n",
       "      <td>₹10,000</td>\n",
       "      <td>₹20,000 a month</td>\n",
       "    </tr>\n",
       "    <tr>\n",
       "      <th>20</th>\n",
       "      <td>Yearly</td>\n",
       "      <td>₹8,00,000</td>\n",
       "      <td>₹16,00,000 a year</td>\n",
       "    </tr>\n",
       "    <tr>\n",
       "      <th>21</th>\n",
       "      <td>Monthly</td>\n",
       "      <td>₹12,844</td>\n",
       "      <td>₹40,902 a month</td>\n",
       "    </tr>\n",
       "    <tr>\n",
       "      <th>22</th>\n",
       "      <td>Monthly</td>\n",
       "      <td>₹15,000 a month</td>\n",
       "      <td>None</td>\n",
       "    </tr>\n",
       "    <tr>\n",
       "      <th>23</th>\n",
       "      <td>Monthly</td>\n",
       "      <td>₹10,000</td>\n",
       "      <td>₹20,000 a month</td>\n",
       "    </tr>\n",
       "    <tr>\n",
       "      <th>24</th>\n",
       "      <td>Monthly</td>\n",
       "      <td>₹20,000</td>\n",
       "      <td>₹40,000 a month</td>\n",
       "    </tr>\n",
       "    <tr>\n",
       "      <th>25</th>\n",
       "      <td>Yearly</td>\n",
       "      <td>₹2,73,870</td>\n",
       "      <td>₹12,74,484 a year</td>\n",
       "    </tr>\n",
       "    <tr>\n",
       "      <th>26</th>\n",
       "      <td>Yearly</td>\n",
       "      <td>₹6,00,000 a year</td>\n",
       "      <td>None</td>\n",
       "    </tr>\n",
       "    <tr>\n",
       "      <th>27</th>\n",
       "      <td>Yearly</td>\n",
       "      <td>₹3,50,000</td>\n",
       "      <td>₹5,00,000 a year</td>\n",
       "    </tr>\n",
       "    <tr>\n",
       "      <th>28</th>\n",
       "      <td>Yearly</td>\n",
       "      <td>₹4,00,000</td>\n",
       "      <td>₹10,00,000 a year</td>\n",
       "    </tr>\n",
       "    <tr>\n",
       "      <th>29</th>\n",
       "      <td>Yearly</td>\n",
       "      <td>₹10,00,000</td>\n",
       "      <td>₹12,00,000 a year</td>\n",
       "    </tr>\n",
       "    <tr>\n",
       "      <th>30</th>\n",
       "      <td>Monthly</td>\n",
       "      <td>₹10,000</td>\n",
       "      <td>₹12,000 a month</td>\n",
       "    </tr>\n",
       "    <tr>\n",
       "      <th>31</th>\n",
       "      <td>Yearly</td>\n",
       "      <td>₹2,00,000 a year</td>\n",
       "      <td>None</td>\n",
       "    </tr>\n",
       "    <tr>\n",
       "      <th>32</th>\n",
       "      <td>Monthly</td>\n",
       "      <td>₹10,000</td>\n",
       "      <td>₹20,000 a month</td>\n",
       "    </tr>\n",
       "    <tr>\n",
       "      <th>33</th>\n",
       "      <td>Yearly</td>\n",
       "      <td>₹8,00,000</td>\n",
       "      <td>₹16,00,000 a year</td>\n",
       "    </tr>\n",
       "    <tr>\n",
       "      <th>34</th>\n",
       "      <td>Monthly</td>\n",
       "      <td>₹12,844</td>\n",
       "      <td>₹40,902 a month</td>\n",
       "    </tr>\n",
       "    <tr>\n",
       "      <th>35</th>\n",
       "      <td>Monthly</td>\n",
       "      <td>₹15,000 a month</td>\n",
       "      <td>None</td>\n",
       "    </tr>\n",
       "    <tr>\n",
       "      <th>36</th>\n",
       "      <td>Monthly</td>\n",
       "      <td>₹10,000</td>\n",
       "      <td>₹20,000 a month</td>\n",
       "    </tr>\n",
       "    <tr>\n",
       "      <th>37</th>\n",
       "      <td>Monthly</td>\n",
       "      <td>₹20,000</td>\n",
       "      <td>₹40,000 a month</td>\n",
       "    </tr>\n",
       "    <tr>\n",
       "      <th>38</th>\n",
       "      <td>Yearly</td>\n",
       "      <td>₹2,73,870</td>\n",
       "      <td>₹12,74,484 a year</td>\n",
       "    </tr>\n",
       "    <tr>\n",
       "      <th>39</th>\n",
       "      <td>Yearly</td>\n",
       "      <td>₹6,00,000 a year</td>\n",
       "      <td>None</td>\n",
       "    </tr>\n",
       "    <tr>\n",
       "      <th>40</th>\n",
       "      <td>Yearly</td>\n",
       "      <td>₹3,50,000</td>\n",
       "      <td>₹5,00,000 a year</td>\n",
       "    </tr>\n",
       "    <tr>\n",
       "      <th>41</th>\n",
       "      <td>Yearly</td>\n",
       "      <td>₹4,00,000</td>\n",
       "      <td>₹10,00,000 a year</td>\n",
       "    </tr>\n",
       "    <tr>\n",
       "      <th>42</th>\n",
       "      <td>Yearly</td>\n",
       "      <td>₹10,00,000</td>\n",
       "      <td>₹12,00,000 a year</td>\n",
       "    </tr>\n",
       "    <tr>\n",
       "      <th>43</th>\n",
       "      <td>Monthly</td>\n",
       "      <td>₹10,000</td>\n",
       "      <td>₹12,000 a month</td>\n",
       "    </tr>\n",
       "    <tr>\n",
       "      <th>44</th>\n",
       "      <td>Yearly</td>\n",
       "      <td>₹2,00,000 a year</td>\n",
       "      <td>None</td>\n",
       "    </tr>\n",
       "    <tr>\n",
       "      <th>45</th>\n",
       "      <td>Monthly</td>\n",
       "      <td>₹10,000</td>\n",
       "      <td>₹20,000 a month</td>\n",
       "    </tr>\n",
       "    <tr>\n",
       "      <th>46</th>\n",
       "      <td>Yearly</td>\n",
       "      <td>₹8,00,000</td>\n",
       "      <td>₹16,00,000 a year</td>\n",
       "    </tr>\n",
       "    <tr>\n",
       "      <th>47</th>\n",
       "      <td>Monthly</td>\n",
       "      <td>₹12,844</td>\n",
       "      <td>₹40,902 a month</td>\n",
       "    </tr>\n",
       "    <tr>\n",
       "      <th>48</th>\n",
       "      <td>Monthly</td>\n",
       "      <td>₹15,000 a month</td>\n",
       "      <td>None</td>\n",
       "    </tr>\n",
       "    <tr>\n",
       "      <th>49</th>\n",
       "      <td>Monthly</td>\n",
       "      <td>₹10,000</td>\n",
       "      <td>₹20,000 a month</td>\n",
       "    </tr>\n",
       "    <tr>\n",
       "      <th>50</th>\n",
       "      <td>Monthly</td>\n",
       "      <td>₹20,000</td>\n",
       "      <td>₹40,000 a month</td>\n",
       "    </tr>\n",
       "    <tr>\n",
       "      <th>51</th>\n",
       "      <td>Yearly</td>\n",
       "      <td>₹2,73,870</td>\n",
       "      <td>₹12,74,484 a year</td>\n",
       "    </tr>\n",
       "    <tr>\n",
       "      <th>52</th>\n",
       "      <td>Yearly</td>\n",
       "      <td>₹3,60,000</td>\n",
       "      <td>₹5,00,000 a year</td>\n",
       "    </tr>\n",
       "    <tr>\n",
       "      <th>53</th>\n",
       "      <td>Monthly</td>\n",
       "      <td>₹15,000</td>\n",
       "      <td>₹70,000 a month</td>\n",
       "    </tr>\n",
       "    <tr>\n",
       "      <th>54</th>\n",
       "      <td>Yearly</td>\n",
       "      <td>₹4,00,000</td>\n",
       "      <td>₹6,50,000 a year</td>\n",
       "    </tr>\n",
       "    <tr>\n",
       "      <th>55</th>\n",
       "      <td>Monthly</td>\n",
       "      <td>₹10,000 a month</td>\n",
       "      <td>None</td>\n",
       "    </tr>\n",
       "    <tr>\n",
       "      <th>56</th>\n",
       "      <td>Monthly</td>\n",
       "      <td>₹30,000</td>\n",
       "      <td>₹45,000 a month</td>\n",
       "    </tr>\n",
       "    <tr>\n",
       "      <th>57</th>\n",
       "      <td>Monthly</td>\n",
       "      <td>₹10,000 a month</td>\n",
       "      <td>None</td>\n",
       "    </tr>\n",
       "  </tbody>\n",
       "</table>\n",
       "</div>"
      ],
      "text/plain": [
       "    Rate_by               low                high\n",
       "0    Yearly  ₹6,00,000 a year                None\n",
       "1    Yearly        ₹3,50,000     ₹5,00,000 a year\n",
       "2    Yearly        ₹4,00,000    ₹10,00,000 a year\n",
       "3    Yearly       ₹10,00,000    ₹12,00,000 a year\n",
       "4   Monthly          ₹10,000      ₹12,000 a month\n",
       "5    Yearly  ₹2,00,000 a year                None\n",
       "6   Monthly          ₹10,000      ₹20,000 a month\n",
       "7    Yearly        ₹8,00,000    ₹16,00,000 a year\n",
       "8   Monthly          ₹12,844      ₹40,902 a month\n",
       "9   Monthly   ₹15,000 a month                None\n",
       "10  Monthly          ₹10,000      ₹20,000 a month\n",
       "11  Monthly          ₹20,000      ₹40,000 a month\n",
       "12   Yearly        ₹2,73,870    ₹12,74,484 a year\n",
       "13   Yearly  ₹6,00,000 a year                None\n",
       "14   Yearly        ₹3,50,000     ₹5,00,000 a year\n",
       "15   Yearly        ₹4,00,000    ₹10,00,000 a year\n",
       "16   Yearly       ₹10,00,000    ₹12,00,000 a year\n",
       "17  Monthly          ₹10,000      ₹12,000 a month\n",
       "18   Yearly  ₹2,00,000 a year                None\n",
       "19  Monthly          ₹10,000      ₹20,000 a month\n",
       "20   Yearly        ₹8,00,000    ₹16,00,000 a year\n",
       "21  Monthly          ₹12,844      ₹40,902 a month\n",
       "22  Monthly   ₹15,000 a month                None\n",
       "23  Monthly          ₹10,000      ₹20,000 a month\n",
       "24  Monthly          ₹20,000      ₹40,000 a month\n",
       "25   Yearly        ₹2,73,870    ₹12,74,484 a year\n",
       "26   Yearly  ₹6,00,000 a year                None\n",
       "27   Yearly        ₹3,50,000     ₹5,00,000 a year\n",
       "28   Yearly        ₹4,00,000    ₹10,00,000 a year\n",
       "29   Yearly       ₹10,00,000    ₹12,00,000 a year\n",
       "30  Monthly          ₹10,000      ₹12,000 a month\n",
       "31   Yearly  ₹2,00,000 a year                None\n",
       "32  Monthly          ₹10,000      ₹20,000 a month\n",
       "33   Yearly        ₹8,00,000    ₹16,00,000 a year\n",
       "34  Monthly          ₹12,844      ₹40,902 a month\n",
       "35  Monthly   ₹15,000 a month                None\n",
       "36  Monthly          ₹10,000      ₹20,000 a month\n",
       "37  Monthly          ₹20,000      ₹40,000 a month\n",
       "38   Yearly        ₹2,73,870    ₹12,74,484 a year\n",
       "39   Yearly  ₹6,00,000 a year                None\n",
       "40   Yearly        ₹3,50,000     ₹5,00,000 a year\n",
       "41   Yearly        ₹4,00,000    ₹10,00,000 a year\n",
       "42   Yearly       ₹10,00,000    ₹12,00,000 a year\n",
       "43  Monthly          ₹10,000      ₹12,000 a month\n",
       "44   Yearly  ₹2,00,000 a year                None\n",
       "45  Monthly          ₹10,000      ₹20,000 a month\n",
       "46   Yearly        ₹8,00,000    ₹16,00,000 a year\n",
       "47  Monthly          ₹12,844      ₹40,902 a month\n",
       "48  Monthly   ₹15,000 a month                None\n",
       "49  Monthly          ₹10,000      ₹20,000 a month\n",
       "50  Monthly          ₹20,000      ₹40,000 a month\n",
       "51   Yearly        ₹2,73,870    ₹12,74,484 a year\n",
       "52   Yearly        ₹3,60,000     ₹5,00,000 a year\n",
       "53  Monthly          ₹15,000      ₹70,000 a month\n",
       "54   Yearly        ₹4,00,000     ₹6,50,000 a year\n",
       "55  Monthly   ₹10,000 a month                None\n",
       "56  Monthly          ₹30,000      ₹45,000 a month\n",
       "57  Monthly   ₹10,000 a month                None"
      ]
     },
     "execution_count": 18,
     "metadata": {},
     "output_type": "execute_result"
    }
   ],
   "source": [
    "salary_df[['low','high']] = salary_df.Salary.str.split('-', expand=True)\n",
    "salary_df[['Rate_by','low','high']]"
   ]
  },
  {
   "cell_type": "code",
   "execution_count": 19,
   "metadata": {},
   "outputs": [],
   "source": [
    "salary_df.replace(to_replace=[None], value=0, inplace=True)"
   ]
  },
  {
   "cell_type": "code",
   "execution_count": 20,
   "metadata": {},
   "outputs": [],
   "source": [
    "def find_salary(a):\n",
    "    if a:\n",
    "        pattern = '\\₹[0-9]*[.,]?[0-9]*[.,]?[0-9][.,]?[0-9][.,]?[0-9]'\n",
    "        p = re.compile(pattern)\n",
    "        digits = p.findall(a)\n",
    "        new1 = digits[0].replace(\"₹\",\"\")\n",
    "        new2 = new1.replace(\",\",\"\")\n",
    "        \n",
    "        return float(new2)\n",
    "    else:\n",
    "        return 0"
   ]
  },
  {
   "cell_type": "code",
   "execution_count": 21,
   "metadata": {
    "scrolled": false
   },
   "outputs": [],
   "source": [
    "salary_df['min'] = salary_df['low'].apply(find_salary)"
   ]
  },
  {
   "cell_type": "code",
   "execution_count": 22,
   "metadata": {},
   "outputs": [],
   "source": [
    "salary_df['max'] = salary_df['high'].apply(find_salary)"
   ]
  },
  {
   "cell_type": "code",
   "execution_count": 23,
   "metadata": {
    "scrolled": false
   },
   "outputs": [
    {
     "data": {
      "text/html": [
       "<div>\n",
       "<style scoped>\n",
       "    .dataframe tbody tr th:only-of-type {\n",
       "        vertical-align: middle;\n",
       "    }\n",
       "\n",
       "    .dataframe tbody tr th {\n",
       "        vertical-align: top;\n",
       "    }\n",
       "\n",
       "    .dataframe thead th {\n",
       "        text-align: right;\n",
       "    }\n",
       "</style>\n",
       "<table border=\"1\" class=\"dataframe\">\n",
       "  <thead>\n",
       "    <tr style=\"text-align: right;\">\n",
       "      <th></th>\n",
       "      <th>Title</th>\n",
       "      <th>Company</th>\n",
       "      <th>Link</th>\n",
       "      <th>Review</th>\n",
       "      <th>Salary</th>\n",
       "      <th>Description</th>\n",
       "      <th>Rate_by</th>\n",
       "      <th>low</th>\n",
       "      <th>high</th>\n",
       "      <th>min</th>\n",
       "      <th>max</th>\n",
       "    </tr>\n",
       "  </thead>\n",
       "  <tbody>\n",
       "    <tr>\n",
       "      <th>0</th>\n",
       "      <td>Backend Developer</td>\n",
       "      <td>SatSure Analytics India Private Limited</td>\n",
       "      <td>https://in.indeed.com/company/SatSure-Analytic...</td>\n",
       "      <td>0</td>\n",
       "      <td>₹6,00,000 a year</td>\n",
       "      <td>Responsibilities Include:\\nCollaborating with ...</td>\n",
       "      <td>Yearly</td>\n",
       "      <td>₹6,00,000 a year</td>\n",
       "      <td>0</td>\n",
       "      <td>600000.0</td>\n",
       "      <td>0.0</td>\n",
       "    </tr>\n",
       "    <tr>\n",
       "      <th>1</th>\n",
       "      <td>Java/J2EE Developer</td>\n",
       "      <td>Sminetech Solutions Pvt Ltd</td>\n",
       "      <td>https://in.indeed.com/rc/clk?cmp=Sminetech-Sol...</td>\n",
       "      <td>0</td>\n",
       "      <td>₹3,50,000 - ₹5,00,000 a year</td>\n",
       "      <td>Your Responsibilities:\\nWrite maintainable/sca...</td>\n",
       "      <td>Yearly</td>\n",
       "      <td>₹3,50,000</td>\n",
       "      <td>₹5,00,000 a year</td>\n",
       "      <td>350000.0</td>\n",
       "      <td>500000.0</td>\n",
       "    </tr>\n",
       "    <tr>\n",
       "      <th>2</th>\n",
       "      <td>JavaScript Developer(WEB-UI)</td>\n",
       "      <td>eifer software solutions</td>\n",
       "      <td>https://in.indeed.com/company/eifer-software-s...</td>\n",
       "      <td>0</td>\n",
       "      <td>₹4,00,000 - ₹10,00,000 a year</td>\n",
       "      <td>JavaScript Developer(WEB-UI)\\nLooking for a fr...</td>\n",
       "      <td>Yearly</td>\n",
       "      <td>₹4,00,000</td>\n",
       "      <td>₹10,00,000 a year</td>\n",
       "      <td>400000.0</td>\n",
       "      <td>1000000.0</td>\n",
       "    </tr>\n",
       "    <tr>\n",
       "      <th>3</th>\n",
       "      <td>Java Back End Developer</td>\n",
       "      <td>Omnicuris Healthcare Pvt Ltd</td>\n",
       "      <td>https://in.indeed.com/company/Omnicuris-Health...</td>\n",
       "      <td>1.0</td>\n",
       "      <td>₹10,00,000 - ₹12,00,000 a year</td>\n",
       "      <td>POSITION – JAVA BACK END DEVELOPER\\nOmnicuris ...</td>\n",
       "      <td>Yearly</td>\n",
       "      <td>₹10,00,000</td>\n",
       "      <td>₹12,00,000 a year</td>\n",
       "      <td>1000000.0</td>\n",
       "      <td>1200000.0</td>\n",
       "    </tr>\n",
       "    <tr>\n",
       "      <th>4</th>\n",
       "      <td>PHP Fresher</td>\n",
       "      <td>Fermion Infotech Private Limited</td>\n",
       "      <td>https://in.indeed.com/company/Fermion-Infotech...</td>\n",
       "      <td>0</td>\n",
       "      <td>₹10,000 - ₹12,000 a month</td>\n",
       "      <td>Hi,\\nWe are pleased to inform you that we have...</td>\n",
       "      <td>Monthly</td>\n",
       "      <td>₹10,000</td>\n",
       "      <td>₹12,000 a month</td>\n",
       "      <td>10000.0</td>\n",
       "      <td>12000.0</td>\n",
       "    </tr>\n",
       "  </tbody>\n",
       "</table>\n",
       "</div>"
      ],
      "text/plain": [
       "                          Title                                  Company  \\\n",
       "0             Backend Developer  SatSure Analytics India Private Limited   \n",
       "1           Java/J2EE Developer              Sminetech Solutions Pvt Ltd   \n",
       "2  JavaScript Developer(WEB-UI)                 eifer software solutions   \n",
       "3       Java Back End Developer             Omnicuris Healthcare Pvt Ltd   \n",
       "4                   PHP Fresher         Fermion Infotech Private Limited   \n",
       "\n",
       "                                                Link Review  \\\n",
       "0  https://in.indeed.com/company/SatSure-Analytic...      0   \n",
       "1  https://in.indeed.com/rc/clk?cmp=Sminetech-Sol...      0   \n",
       "2  https://in.indeed.com/company/eifer-software-s...      0   \n",
       "3  https://in.indeed.com/company/Omnicuris-Health...    1.0   \n",
       "4  https://in.indeed.com/company/Fermion-Infotech...      0   \n",
       "\n",
       "                           Salary  \\\n",
       "0                ₹6,00,000 a year   \n",
       "1    ₹3,50,000 - ₹5,00,000 a year   \n",
       "2   ₹4,00,000 - ₹10,00,000 a year   \n",
       "3  ₹10,00,000 - ₹12,00,000 a year   \n",
       "4       ₹10,000 - ₹12,000 a month   \n",
       "\n",
       "                                         Description  Rate_by  \\\n",
       "0  Responsibilities Include:\\nCollaborating with ...   Yearly   \n",
       "1  Your Responsibilities:\\nWrite maintainable/sca...   Yearly   \n",
       "2  JavaScript Developer(WEB-UI)\\nLooking for a fr...   Yearly   \n",
       "3  POSITION – JAVA BACK END DEVELOPER\\nOmnicuris ...   Yearly   \n",
       "4  Hi,\\nWe are pleased to inform you that we have...  Monthly   \n",
       "\n",
       "                low                high        min        max  \n",
       "0  ₹6,00,000 a year                   0   600000.0        0.0  \n",
       "1        ₹3,50,000     ₹5,00,000 a year   350000.0   500000.0  \n",
       "2        ₹4,00,000    ₹10,00,000 a year   400000.0  1000000.0  \n",
       "3       ₹10,00,000    ₹12,00,000 a year  1000000.0  1200000.0  \n",
       "4          ₹10,000      ₹12,000 a month    10000.0    12000.0  "
      ]
     },
     "execution_count": 23,
     "metadata": {},
     "output_type": "execute_result"
    }
   ],
   "source": [
    "salary_df.head()"
   ]
  },
  {
   "cell_type": "markdown",
   "metadata": {},
   "source": [
    "## Calculate the adjusted salary (turn all daily/hourly wage to yearly), use average"
   ]
  },
  {
   "cell_type": "code",
   "execution_count": 24,
   "metadata": {},
   "outputs": [],
   "source": [
    "#Calculate average salary\n",
    "def adjust_salary(a, b):\n",
    "    adjusted_salary=[]\n",
    "    for x, y in zip(a,b):\n",
    "        if y > 0:\n",
    "            avg_salary = (x+y)/2\n",
    "        \n",
    "        else:\n",
    "            avg_salary = x\n",
    "            \n",
    "        adjusted_salary.append(avg_salary)\n",
    "        \n",
    "    return adjusted_salary"
   ]
  },
  {
   "cell_type": "code",
   "execution_count": 25,
   "metadata": {},
   "outputs": [],
   "source": [
    "salary_df['adjusted_salary'] = adjust_salary(salary_df['min'], salary_df['max'])"
   ]
  },
  {
   "cell_type": "code",
   "execution_count": 26,
   "metadata": {},
   "outputs": [],
   "source": [
    "\n",
    "#turn hourly, daily and monthly wage to yearly \n",
    "def adjust_salary2(m,n):\n",
    "    adjusted_yearly_salary = []\n",
    "    for x, y in zip(m,n):\n",
    "        if x == \"Yearly\":\n",
    "            yearly_salary = y\n",
    "        if x == \"Monthly\":\n",
    "            yearly_salary = y*12\n",
    "        if x == \"Hourly\":\n",
    "            yearly_salary = y*40*52\n",
    "        if x == \"Daily\":\n",
    "            yearly_salary = y*5*52\n",
    "            \n",
    "        adjusted_yearly_salary.append(yearly_salary)\n",
    "        \n",
    "    return adjusted_yearly_salary"
   ]
  },
  {
   "cell_type": "code",
   "execution_count": 27,
   "metadata": {},
   "outputs": [],
   "source": [
    "salary_df['adjusted_yearly_salary'] = adjust_salary2(salary_df['Rate_by'], salary_df['adjusted_salary'])"
   ]
  },
  {
   "cell_type": "code",
   "execution_count": 28,
   "metadata": {},
   "outputs": [],
   "source": [
    "BINS = [0,60000,120000,500000,1000000,1500000,2800000]\n",
    "salary_df['Salary_Bins'] = pd.cut(x=salary_df['adjusted_yearly_salary'], bins=BINS, labels=False)"
   ]
  },
  {
   "cell_type": "code",
   "execution_count": 29,
   "metadata": {
    "scrolled": false
   },
   "outputs": [
    {
     "data": {
      "text/plain": [
       "<AxesSubplot:xlabel='Salary_Bins', ylabel='count'>"
      ]
     },
     "execution_count": 29,
     "metadata": {},
     "output_type": "execute_result"
    },
    {
     "data": {
      "image/png": "[encoded data removed]",
      "text/plain": [
       "<Figure size 432x288 with 1 Axes>"
      ]
     },
     "metadata": {
      "needs_background": "light"
     },
     "output_type": "display_data"
    }
   ],
   "source": [
    "sns.countplot(salary_df.Salary_Bins)"
   ]
  },
  {
   "cell_type": "code",
   "execution_count": 30,
   "metadata": {},
   "outputs": [
    {
     "data": {
      "text/plain": [
       "array([[<AxesSubplot:title={'center':'adjusted_yearly_salary'}>]],\n",
       "      dtype=object)"
      ]
     },
     "execution_count": 30,
     "metadata": {},
     "output_type": "execute_result"
    },
    {
     "data": {
      "image/png": "[encoded data removed]",
      "text/plain": [
       "<Figure size 432x288 with 1 Axes>"
      ]
     },
     "metadata": {
      "needs_background": "light"
     },
     "output_type": "display_data"
    }
   ],
   "source": [
    "salary_df.hist('adjusted_yearly_salary')"
   ]
  },
  {
   "cell_type": "code",
   "execution_count": 31,
   "metadata": {},
   "outputs": [
    {
     "data": {
      "text/plain": [
       "0.000000     120000.0\n",
       "0.166667     180000.0\n",
       "0.333333     200000.0\n",
       "0.500000     360000.0\n",
       "0.666667     600000.0\n",
       "0.833333     774177.0\n",
       "1.000000    1200000.0\n",
       "Name: adjusted_yearly_salary, dtype: float64"
      ]
     },
     "execution_count": 31,
     "metadata": {},
     "output_type": "execute_result"
    }
   ],
   "source": [
    "salary_df['adjusted_yearly_salary'].quantile(list(np.linspace(0,1,7)))"
   ]
  },
  {
   "cell_type": "code",
   "execution_count": 32,
   "metadata": {},
   "outputs": [
    {
     "data": {
      "text/plain": [
       "Index(['Title', 'Company', 'Link', 'Review', 'Salary', 'Description',\n",
       "       'Rate_by', 'low', 'high', 'min', 'max', 'adjusted_salary',\n",
       "       'adjusted_yearly_salary', 'Salary_Bins'],\n",
       "      dtype='object')"
      ]
     },
     "execution_count": 32,
     "metadata": {},
     "output_type": "execute_result"
    }
   ],
   "source": [
    "salary_df.columns"
   ]
  },
  {
   "cell_type": "code",
   "execution_count": 33,
   "metadata": {},
   "outputs": [
    {
     "data": {
      "text/html": [
       "<div>\n",
       "<style scoped>\n",
       "    .dataframe tbody tr th:only-of-type {\n",
       "        vertical-align: middle;\n",
       "    }\n",
       "\n",
       "    .dataframe tbody tr th {\n",
       "        vertical-align: top;\n",
       "    }\n",
       "\n",
       "    .dataframe thead th {\n",
       "        text-align: right;\n",
       "    }\n",
       "</style>\n",
       "<table border=\"1\" class=\"dataframe\">\n",
       "  <thead>\n",
       "    <tr style=\"text-align: right;\">\n",
       "      <th></th>\n",
       "      <th>Title</th>\n",
       "      <th>Company</th>\n",
       "      <th>Link</th>\n",
       "      <th>Review</th>\n",
       "      <th>Salary</th>\n",
       "      <th>Description</th>\n",
       "      <th>Rate_by</th>\n",
       "      <th>low</th>\n",
       "      <th>high</th>\n",
       "      <th>min</th>\n",
       "      <th>max</th>\n",
       "      <th>adjusted_salary</th>\n",
       "      <th>adjusted_yearly_salary</th>\n",
       "      <th>Salary_Bins</th>\n",
       "    </tr>\n",
       "  </thead>\n",
       "  <tbody>\n",
       "    <tr>\n",
       "      <th>0</th>\n",
       "      <td>Backend Developer</td>\n",
       "      <td>SatSure Analytics India Private Limited</td>\n",
       "      <td>https://in.indeed.com/company/SatSure-Analytic...</td>\n",
       "      <td>0</td>\n",
       "      <td>₹6,00,000 a year</td>\n",
       "      <td>Responsibilities Include:\\nCollaborating with ...</td>\n",
       "      <td>Yearly</td>\n",
       "      <td>₹6,00,000 a year</td>\n",
       "      <td>0</td>\n",
       "      <td>600000.0</td>\n",
       "      <td>0.0</td>\n",
       "      <td>600000.0</td>\n",
       "      <td>600000.0</td>\n",
       "      <td>3</td>\n",
       "    </tr>\n",
       "    <tr>\n",
       "      <th>1</th>\n",
       "      <td>Java/J2EE Developer</td>\n",
       "      <td>Sminetech Solutions Pvt Ltd</td>\n",
       "      <td>https://in.indeed.com/rc/clk?cmp=Sminetech-Sol...</td>\n",
       "      <td>0</td>\n",
       "      <td>₹3,50,000 - ₹5,00,000 a year</td>\n",
       "      <td>Your Responsibilities:\\nWrite maintainable/sca...</td>\n",
       "      <td>Yearly</td>\n",
       "      <td>₹3,50,000</td>\n",
       "      <td>₹5,00,000 a year</td>\n",
       "      <td>350000.0</td>\n",
       "      <td>500000.0</td>\n",
       "      <td>425000.0</td>\n",
       "      <td>425000.0</td>\n",
       "      <td>2</td>\n",
       "    </tr>\n",
       "  </tbody>\n",
       "</table>\n",
       "</div>"
      ],
      "text/plain": [
       "                 Title                                  Company  \\\n",
       "0    Backend Developer  SatSure Analytics India Private Limited   \n",
       "1  Java/J2EE Developer              Sminetech Solutions Pvt Ltd   \n",
       "\n",
       "                                                Link Review  \\\n",
       "0  https://in.indeed.com/company/SatSure-Analytic...      0   \n",
       "1  https://in.indeed.com/rc/clk?cmp=Sminetech-Sol...      0   \n",
       "\n",
       "                         Salary  \\\n",
       "0              ₹6,00,000 a year   \n",
       "1  ₹3,50,000 - ₹5,00,000 a year   \n",
       "\n",
       "                                         Description Rate_by  \\\n",
       "0  Responsibilities Include:\\nCollaborating with ...  Yearly   \n",
       "1  Your Responsibilities:\\nWrite maintainable/sca...  Yearly   \n",
       "\n",
       "                low               high       min       max  adjusted_salary  \\\n",
       "0  ₹6,00,000 a year                  0  600000.0       0.0         600000.0   \n",
       "1        ₹3,50,000    ₹5,00,000 a year  350000.0  500000.0         425000.0   \n",
       "\n",
       "   adjusted_yearly_salary  Salary_Bins  \n",
       "0                600000.0            3  \n",
       "1                425000.0            2  "
      ]
     },
     "execution_count": 33,
     "metadata": {},
     "output_type": "execute_result"
    }
   ],
   "source": [
    "salary_df.head(2)"
   ]
  },
  {
   "cell_type": "code",
   "execution_count": 34,
   "metadata": {},
   "outputs": [
    {
     "data": {
      "text/plain": [
       "(58, 14)"
      ]
     },
     "execution_count": 34,
     "metadata": {},
     "output_type": "execute_result"
    }
   ],
   "source": [
    "salary_df.shape"
   ]
  },
  {
   "cell_type": "markdown",
   "metadata": {},
   "source": [
    "### Combaine Title and Description"
   ]
  },
  {
   "cell_type": "code",
   "execution_count": 35,
   "metadata": {},
   "outputs": [],
   "source": [
    "salary_df['combined_text'] = salary_df['Title'].str.cat(salary_df['Description'], sep = ' ')"
   ]
  },
  {
   "cell_type": "code",
   "execution_count": 36,
   "metadata": {},
   "outputs": [
    {
     "data": {
      "text/html": [
       "<div>\n",
       "<style scoped>\n",
       "    .dataframe tbody tr th:only-of-type {\n",
       "        vertical-align: middle;\n",
       "    }\n",
       "\n",
       "    .dataframe tbody tr th {\n",
       "        vertical-align: top;\n",
       "    }\n",
       "\n",
       "    .dataframe thead th {\n",
       "        text-align: right;\n",
       "    }\n",
       "</style>\n",
       "<table border=\"1\" class=\"dataframe\">\n",
       "  <thead>\n",
       "    <tr style=\"text-align: right;\">\n",
       "      <th></th>\n",
       "      <th>Title</th>\n",
       "      <th>Company</th>\n",
       "      <th>Link</th>\n",
       "      <th>Review</th>\n",
       "      <th>Salary</th>\n",
       "      <th>Description</th>\n",
       "      <th>Rate_by</th>\n",
       "      <th>low</th>\n",
       "      <th>high</th>\n",
       "      <th>min</th>\n",
       "      <th>max</th>\n",
       "      <th>adjusted_salary</th>\n",
       "      <th>adjusted_yearly_salary</th>\n",
       "      <th>Salary_Bins</th>\n",
       "      <th>combined_text</th>\n",
       "    </tr>\n",
       "  </thead>\n",
       "  <tbody>\n",
       "    <tr>\n",
       "      <th>0</th>\n",
       "      <td>Backend Developer</td>\n",
       "      <td>SatSure Analytics India Private Limited</td>\n",
       "      <td>https://in.indeed.com/company/SatSure-Analytic...</td>\n",
       "      <td>0</td>\n",
       "      <td>₹6,00,000 a year</td>\n",
       "      <td>Responsibilities Include:\\nCollaborating with ...</td>\n",
       "      <td>Yearly</td>\n",
       "      <td>₹6,00,000 a year</td>\n",
       "      <td>0</td>\n",
       "      <td>600000.0</td>\n",
       "      <td>0.0</td>\n",
       "      <td>600000.0</td>\n",
       "      <td>600000.0</td>\n",
       "      <td>3</td>\n",
       "      <td>Backend Developer Responsibilities Include:\\nC...</td>\n",
       "    </tr>\n",
       "    <tr>\n",
       "      <th>1</th>\n",
       "      <td>Java/J2EE Developer</td>\n",
       "      <td>Sminetech Solutions Pvt Ltd</td>\n",
       "      <td>https://in.indeed.com/rc/clk?cmp=Sminetech-Sol...</td>\n",
       "      <td>0</td>\n",
       "      <td>₹3,50,000 - ₹5,00,000 a year</td>\n",
       "      <td>Your Responsibilities:\\nWrite maintainable/sca...</td>\n",
       "      <td>Yearly</td>\n",
       "      <td>₹3,50,000</td>\n",
       "      <td>₹5,00,000 a year</td>\n",
       "      <td>350000.0</td>\n",
       "      <td>500000.0</td>\n",
       "      <td>425000.0</td>\n",
       "      <td>425000.0</td>\n",
       "      <td>2</td>\n",
       "      <td>Java/J2EE Developer Your Responsibilities:\\nWr...</td>\n",
       "    </tr>\n",
       "  </tbody>\n",
       "</table>\n",
       "</div>"
      ],
      "text/plain": [
       "                 Title                                  Company  \\\n",
       "0    Backend Developer  SatSure Analytics India Private Limited   \n",
       "1  Java/J2EE Developer              Sminetech Solutions Pvt Ltd   \n",
       "\n",
       "                                                Link Review  \\\n",
       "0  https://in.indeed.com/company/SatSure-Analytic...      0   \n",
       "1  https://in.indeed.com/rc/clk?cmp=Sminetech-Sol...      0   \n",
       "\n",
       "                         Salary  \\\n",
       "0              ₹6,00,000 a year   \n",
       "1  ₹3,50,000 - ₹5,00,000 a year   \n",
       "\n",
       "                                         Description Rate_by  \\\n",
       "0  Responsibilities Include:\\nCollaborating with ...  Yearly   \n",
       "1  Your Responsibilities:\\nWrite maintainable/sca...  Yearly   \n",
       "\n",
       "                low               high       min       max  adjusted_salary  \\\n",
       "0  ₹6,00,000 a year                  0  600000.0       0.0         600000.0   \n",
       "1        ₹3,50,000    ₹5,00,000 a year  350000.0  500000.0         425000.0   \n",
       "\n",
       "   adjusted_yearly_salary  Salary_Bins  \\\n",
       "0                600000.0            3   \n",
       "1                425000.0            2   \n",
       "\n",
       "                                       combined_text  \n",
       "0  Backend Developer Responsibilities Include:\\nC...  \n",
       "1  Java/J2EE Developer Your Responsibilities:\\nWr...  "
      ]
     },
     "execution_count": 36,
     "metadata": {},
     "output_type": "execute_result"
    }
   ],
   "source": [
    "salary_df.head(2)"
   ]
  },
  {
   "cell_type": "markdown",
   "metadata": {},
   "source": [
    "### Rearrange Columns "
   ]
  },
  {
   "cell_type": "code",
   "execution_count": 37,
   "metadata": {},
   "outputs": [],
   "source": [
    "salary_df = salary_df[['Title', 'Company', 'Link', 'Review', 'Salary', 'Description',\n",
    "       'Rate_by', 'low', 'high', 'min', 'max', 'adjusted_salary',\n",
    "       'adjusted_yearly_salary',  'combined_text','Salary_Bins']]"
   ]
  },
  {
   "cell_type": "code",
   "execution_count": 38,
   "metadata": {},
   "outputs": [],
   "source": [
    "#salary_df.to_csv('job_scrapped_preprocess.csv',index=False)"
   ]
  },
  {
   "cell_type": "code",
   "execution_count": null,
   "metadata": {},
   "outputs": [],
   "source": []
  },
  {
   "cell_type": "code",
   "execution_count": null,
   "metadata": {},
   "outputs": [],
   "source": []
  },
  {
   "cell_type": "code",
   "execution_count": null,
   "metadata": {},
   "outputs": [],
   "source": []
  }
 ],
 "metadata": {
  "kernelspec": {
   "display_name": "Python 3",
   "language": "python",
   "name": "python3"
  },
  "language_info": {
   "codemirror_mode": {
    "name": "ipython",
    "version": 3
   },
   "file_extension": ".py",
   "mimetype": "text/x-python",
   "name": "python",
   "nbconvert_exporter": "python",
   "pygments_lexer": "ipython3",
   "version": "3.7.6"
  }
 },
 "nbformat": 4,
 "nbformat_minor": 4
}
