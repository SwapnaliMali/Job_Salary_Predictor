{
 "cells": [
  {
   "cell_type": "code",
   "execution_count": 1,
   "metadata": {},
   "outputs": [],
   "source": [
    "# pip install --user selenium\n",
    "# https://selenium-python.readthedocs.io/installation.html"
   ]
  },
  {
   "cell_type": "code",
   "execution_count": 23,
   "metadata": {},
   "outputs": [],
   "source": [
    "from selenium.webdriver.common.by import By\n",
    "from selenium import webdriver\n",
    "from selenium.webdriver.common.keys import Keys\n",
    "\n",
    "from selenium.webdriver.support.ui import WebDriverWait\n",
    "from selenium.webdriver.support import expected_conditions as EC\n",
    "\n",
    "import time\n",
    "import pandas as pd\n",
    "import numpy as np"
   ]
  },
  {
   "cell_type": "code",
   "execution_count": 24,
   "metadata": {},
   "outputs": [],
   "source": [
    "#specify driver path\n",
    "DRIVER_PATH = 'chromedriver.exe'\n",
    "driver = webdriver.Chrome(executable_path = DRIVER_PATH)\n",
    "driver.implicitly_wait(3)"
   ]
  },
  {
   "cell_type": "code",
   "execution_count": 25,
   "metadata": {},
   "outputs": [],
   "source": [
    "# driver.get(\"https://google.co.in\") #check if all are ready or not\n",
    "# driver.get(\"https://google.co.in/search?q=ram\")"
   ]
  },
  {
   "cell_type": "markdown",
   "metadata": {},
   "source": [
    "## Get Job From Indeed"
   ]
  },
  {
   "cell_type": "code",
   "execution_count": 26,
   "metadata": {},
   "outputs": [],
   "source": [
    "driver.get('https://indeed.com')"
   ]
  },
  {
   "cell_type": "code",
   "execution_count": 27,
   "metadata": {},
   "outputs": [],
   "source": [
    "login_element = driver.find_element_by_xpath('//span[@class=\"gnav-LoggedOutAccountLink-text\"]')\n",
    "#look for the a tag that contains text Log In\n",
    "login_element.click()"
   ]
  },
  {
   "cell_type": "code",
   "execution_count": 28,
   "metadata": {},
   "outputs": [],
   "source": [
    "email = 'pratyushcool04@gmail.com'\n",
    "password = '55686068'\n",
    "\n",
    "email_element = driver.find_element_by_xpath('//input[@type=\"email\"]')\n",
    "password_element = driver.find_element_by_xpath('//input[@type=\"password\"]')\n",
    "log_in_element = driver.find_element_by_xpath('//button[@type=\"submit\"]')\n",
    "\n",
    "email_element.send_keys(email)\n",
    "\n",
    "password_element.send_keys(password)"
   ]
  },
  {
   "cell_type": "code",
   "execution_count": 29,
   "metadata": {},
   "outputs": [],
   "source": [
    "log_in_element.click()"
   ]
  },
  {
   "cell_type": "markdown",
   "metadata": {},
   "source": [
    "## Change Advanced Search Settings"
   ]
  },
  {
   "cell_type": "code",
   "execution_count": 32,
   "metadata": {},
   "outputs": [],
   "source": [
    "initial_search_button = driver.find_element_by_xpath('//*[@id=\"whatWhereFormId\"]/div[3]/button')\n",
    "initial_search_button.click()"
   ]
  },
  {
   "cell_type": "code",
   "execution_count": 33,
   "metadata": {},
   "outputs": [],
   "source": [
    "advanced_search = driver.find_element_by_xpath('//*[@id=\"jobsearch\"]/table/tbody/tr/td[4]/div/a')"
   ]
  },
  {
   "cell_type": "code",
   "execution_count": 34,
   "metadata": {},
   "outputs": [],
   "source": [
    "advanced_search.click()"
   ]
  },
  {
   "cell_type": "markdown",
   "metadata": {},
   "source": [
    "### 'data science',' web developer' Job in India"
   ]
  },
  {
   "cell_type": "code",
   "execution_count": 40,
   "metadata": {},
   "outputs": [],
   "source": [
    "search_job = driver.find_element_by_xpath('//input[@id=\"as_and\"]')\n",
    "search_job.send_keys(['data science',' web developer'])"
   ]
  },
  {
   "cell_type": "code",
   "execution_count": 41,
   "metadata": {},
   "outputs": [],
   "source": [
    "display_limit = driver.find_element_by_xpath('//select[@id=\"limit\"]//option[@value=\"30\"]')\n",
    "display_limit.click()"
   ]
  },
  {
   "cell_type": "code",
   "execution_count": 42,
   "metadata": {},
   "outputs": [],
   "source": [
    "sort_option = driver.find_element_by_xpath('//select[@id=\"sort\"]//option[@value=\"date\"]')\n",
    "sort_option.click()"
   ]
  },
  {
   "cell_type": "code",
   "execution_count": 43,
   "metadata": {},
   "outputs": [],
   "source": [
    "search_button = driver.find_element_by_xpath('//*[@id=\"fj\"]')"
   ]
  },
  {
   "cell_type": "code",
   "execution_count": 44,
   "metadata": {},
   "outputs": [],
   "source": [
    "search_button.click()"
   ]
  },
  {
   "cell_type": "markdown",
   "metadata": {},
   "source": [
    "## When pop up window comes up"
   ]
  },
  {
   "cell_type": "code",
   "execution_count": 45,
   "metadata": {},
   "outputs": [],
   "source": [
    "close_popup = driver.find_element_by_id(\"popover-x\")\n",
    "close_popup.click()"
   ]
  },
  {
   "cell_type": "markdown",
   "metadata": {},
   "source": [
    "## Find the Job Card, and get all info at once."
   ]
  },
  {
   "cell_type": "code",
   "execution_count": 46,
   "metadata": {},
   "outputs": [],
   "source": [
    "starttime = time.time()"
   ]
  },
  {
   "cell_type": "code",
   "execution_count": 47,
   "metadata": {},
   "outputs": [],
   "source": [
    "driver.implicitly_wait(3)"
   ]
  },
  {
   "cell_type": "code",
   "execution_count": 48,
   "metadata": {},
   "outputs": [],
   "source": [
    "driver.refresh()"
   ]
  },
  {
   "cell_type": "code",
   "execution_count": 49,
   "metadata": {
    "scrolled": true
   },
   "outputs": [
    {
     "name": "stdout",
     "output_type": "stream",
     "text": [
      "Page: 2\n",
      "Page: 3\n",
      "Page: 4\n",
      "Page: 5\n",
      "Page: 6\n"
     ]
    }
   ],
   "source": [
    "\n",
    "titles=[]\n",
    "companies=[]\n",
    "locations=[]\n",
    "links =[]\n",
    "reviews=[]\n",
    "salaries = []\n",
    "descriptions=[]\n",
    "\n",
    "\n",
    "for i in range(0,5):\n",
    "    \n",
    "    job_card = driver.find_elements_by_xpath('//div[contains(@class,\"clickcard\")]')\n",
    "    \n",
    "    for job in job_card:\n",
    "       \n",
    "        try:\n",
    "            review = job.find_element_by_xpath('.//span[@class=\"ratingsContent\"]').text\n",
    "        except:\n",
    "            review = \"None\"\n",
    "        reviews.append(review)\n",
    "\n",
    "        try:\n",
    "            salary = job.find_element_by_xpath('.//span[@class=\"salaryText\"]').text\n",
    "        except:\n",
    "            salary = \"None\"\n",
    "    #.  tells only to look at the element       \n",
    "        salaries.append(salary)\n",
    "        \n",
    "        try:\n",
    "            location = job.find_element_by_xpath('.//span[contains(@class,\"location\")]').text\n",
    "        except:\n",
    "            location = \"None\"\n",
    "    #.  tells only to look at the element       \n",
    "        locations.append(location)\n",
    "        \n",
    "        try:\n",
    "            title  = job.find_element_by_xpath('.//h2[@class=\"title\"]//a').text\n",
    "        except:\n",
    "            title = job.find_element_by_xpath('.//h2[@class=\"title\"]//a').get_attribute(name=\"title\")\n",
    "        titles.append(title)\n",
    "        links.append(job.find_element_by_xpath('.//h2[@class=\"title\"]//a').get_attribute(name=\"href\"))\n",
    "        companies.append(job.find_element_by_xpath('.//span[@class=\"company\"]').text)\n",
    "        \n",
    "    \n",
    "    try:\n",
    "        next_page = driver.find_element_by_xpath('//a[@aria-label={}]//span[@class=\"pn\"]'.format(i+2))\n",
    "        next_page.click()\n",
    "\n",
    "    except:\n",
    "        next_page = driver.find_element_by_xpath('//a[@aria-label=\"Next\"]//span[@class=\"np\"]')\n",
    "        next_page.click()\n",
    "    #except:\n",
    "        #next_page = driver.find_element_by_xpath('//a[.//span[contains(text(),\"Next\")]]')\n",
    "        #next_page.click()\n",
    "        \n",
    "    \n",
    "    print(\"Page: {}\".format(str(i+2)))"
   ]
  },
  {
   "cell_type": "code",
   "execution_count": 50,
   "metadata": {},
   "outputs": [
    {
     "name": "stdout",
     "output_type": "stream",
     "text": [
      "Processing Time: 10.74 min\n"
     ]
    }
   ],
   "source": [
    "endtime = time.time()\n",
    "process_time = round((endtime-starttime)/60,2)\n",
    "print(\"Processing Time: {} min\".format(process_time))"
   ]
  },
  {
   "cell_type": "code",
   "execution_count": 72,
   "metadata": {},
   "outputs": [],
   "source": [
    "descriptions=[]\n",
    "for link in links:\n",
    "    \n",
    "    driver.get(link)\n",
    "    jd = driver.find_element_by_xpath('//div[@id=\"jobDescriptionText\"]').text\n",
    "    descriptions.append(jd)"
   ]
  },
  {
   "cell_type": "markdown",
   "metadata": {},
   "source": [
    "##### Here i am running for only 5 itreation you can run large iteration to get large number of Data"
   ]
  },
  {
   "cell_type": "markdown",
   "metadata": {},
   "source": [
    "## Convert All in to DataFrame"
   ]
  },
  {
   "cell_type": "code",
   "execution_count": 57,
   "metadata": {},
   "outputs": [],
   "source": [
    "df_da=pd.DataFrame()\n",
    "df_da['Title']=titles\n",
    "df_da['Company']=companies\n",
    "df_da['Link']=links\n",
    "df_da['Review']=reviews\n",
    "df_da['Salary']=salaries\n",
    "df_da['Description']=descriptions"
   ]
  },
  {
   "cell_type": "code",
   "execution_count": 85,
   "metadata": {},
   "outputs": [],
   "source": [
    "# df_da.to_csv('job_scrapped.csv',index=False) #1st iteration\n",
    "# df_da.to_csv('job_scrapped_2.csv',index=False) #2nd iteration"
   ]
  }
 ],
 "metadata": {
  "kernelspec": {
   "display_name": "Python 3",
   "language": "python",
   "name": "python3"
  },
  "language_info": {
   "codemirror_mode": {
    "name": "ipython",
    "version": 3
   },
   "file_extension": ".py",
   "mimetype": "text/x-python",
   "name": "python",
   "nbconvert_exporter": "python",
   "pygments_lexer": "ipython3",
   "version": "3.7.6"
  }
 },
 "nbformat": 4,
 "nbformat_minor": 4
}
