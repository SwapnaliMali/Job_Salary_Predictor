{
 "cells": [
  {
   "cell_type": "code",
   "execution_count": 1,
   "metadata": {},
   "outputs": [],
   "source": [
    "import time\n",
    "import nltk\n",
    "from nltk.corpus import stopwords\n",
    "#NLP\n",
    "from nltk import word_tokenize, FreqDist\n",
    "from nltk.corpus import stopwords\n",
    "from nltk.collocations import *\n",
    "import string, re\n",
    "\n",
    "#Model Data Prep\n",
    "import matplotlib.pyplot as plt\n",
    "import pandas as pd\n",
    "import numpy as np\n",
    "import seaborn as sns\n",
    "import matplotlib.pyplot as plt\n",
    "import pickle\n",
    "\n",
    "%matplotlib inline\n",
    "np.random.seed(0)"
   ]
  },
  {
   "cell_type": "markdown",
   "metadata": {},
   "source": [
    "## Combaine All Preprocess Data To get in one DataFrame"
   ]
  },
  {
   "cell_type": "code",
   "execution_count": 2,
   "metadata": {},
   "outputs": [],
   "source": [
    "job1 = pd.read_csv('job_scrapped_preprocess.csv')\n",
    "job2 = pd.read_csv('job_scrapped_preprocess_2.csv')"
   ]
  },
  {
   "cell_type": "code",
   "execution_count": 3,
   "metadata": {},
   "outputs": [
    {
     "data": {
      "text/plain": [
       "((58, 15), (963, 15))"
      ]
     },
     "execution_count": 3,
     "metadata": {},
     "output_type": "execute_result"
    }
   ],
   "source": [
    "job1.shape,job2.shape"
   ]
  },
  {
   "cell_type": "code",
   "execution_count": 4,
   "metadata": {},
   "outputs": [
    {
     "data": {
      "text/plain": [
       "(1021, 15)"
      ]
     },
     "execution_count": 4,
     "metadata": {},
     "output_type": "execute_result"
    }
   ],
   "source": [
    "final_df = job1.append(job2)\n",
    "final_df = final_df.reset_index(drop=True)\n",
    "final_df.shape"
   ]
  },
  {
   "cell_type": "markdown",
   "metadata": {},
   "source": [
    "- Before Going Further you must See Part1 and Part2"
   ]
  },
  {
   "cell_type": "code",
   "execution_count": 5,
   "metadata": {},
   "outputs": [
    {
     "data": {
      "text/html": [
       "<div>\n",
       "<style scoped>\n",
       "    .dataframe tbody tr th:only-of-type {\n",
       "        vertical-align: middle;\n",
       "    }\n",
       "\n",
       "    .dataframe tbody tr th {\n",
       "        vertical-align: top;\n",
       "    }\n",
       "\n",
       "    .dataframe thead th {\n",
       "        text-align: right;\n",
       "    }\n",
       "</style>\n",
       "<table border=\"1\" class=\"dataframe\">\n",
       "  <thead>\n",
       "    <tr style=\"text-align: right;\">\n",
       "      <th></th>\n",
       "      <th>Title</th>\n",
       "      <th>Company</th>\n",
       "      <th>Link</th>\n",
       "      <th>Review</th>\n",
       "      <th>Salary</th>\n",
       "      <th>Description</th>\n",
       "      <th>Rate_by</th>\n",
       "      <th>low</th>\n",
       "      <th>high</th>\n",
       "      <th>min</th>\n",
       "      <th>max</th>\n",
       "      <th>adjusted_salary</th>\n",
       "      <th>adjusted_yearly_salary</th>\n",
       "      <th>combined_text</th>\n",
       "      <th>Salary_Bins</th>\n",
       "    </tr>\n",
       "  </thead>\n",
       "  <tbody>\n",
       "    <tr>\n",
       "      <th>0</th>\n",
       "      <td>Backend Developer</td>\n",
       "      <td>SatSure Analytics India Private Limited</td>\n",
       "      <td>https://in.indeed.com/company/SatSure-Analytic...</td>\n",
       "      <td>0.0</td>\n",
       "      <td>₹6,00,000 a year</td>\n",
       "      <td>Responsibilities Include:\\nCollaborating with ...</td>\n",
       "      <td>Yearly</td>\n",
       "      <td>₹6,00,000 a year</td>\n",
       "      <td>0</td>\n",
       "      <td>600000.0</td>\n",
       "      <td>0.0</td>\n",
       "      <td>600000.0</td>\n",
       "      <td>600000.0</td>\n",
       "      <td>Backend Developer Responsibilities Include:\\nC...</td>\n",
       "      <td>3</td>\n",
       "    </tr>\n",
       "    <tr>\n",
       "      <th>1</th>\n",
       "      <td>Java/J2EE Developer</td>\n",
       "      <td>Sminetech Solutions Pvt Ltd</td>\n",
       "      <td>https://in.indeed.com/rc/clk?cmp=Sminetech-Sol...</td>\n",
       "      <td>0.0</td>\n",
       "      <td>₹3,50,000 - ₹5,00,000 a year</td>\n",
       "      <td>Your Responsibilities:\\nWrite maintainable/sca...</td>\n",
       "      <td>Yearly</td>\n",
       "      <td>₹3,50,000</td>\n",
       "      <td>₹5,00,000 a year</td>\n",
       "      <td>350000.0</td>\n",
       "      <td>500000.0</td>\n",
       "      <td>425000.0</td>\n",
       "      <td>425000.0</td>\n",
       "      <td>Java/J2EE Developer Your Responsibilities:\\nWr...</td>\n",
       "      <td>2</td>\n",
       "    </tr>\n",
       "    <tr>\n",
       "      <th>2</th>\n",
       "      <td>JavaScript Developer(WEB-UI)</td>\n",
       "      <td>eifer software solutions</td>\n",
       "      <td>https://in.indeed.com/company/eifer-software-s...</td>\n",
       "      <td>0.0</td>\n",
       "      <td>₹4,00,000 - ₹10,00,000 a year</td>\n",
       "      <td>JavaScript Developer(WEB-UI)\\nLooking for a fr...</td>\n",
       "      <td>Yearly</td>\n",
       "      <td>₹4,00,000</td>\n",
       "      <td>₹10,00,000 a year</td>\n",
       "      <td>400000.0</td>\n",
       "      <td>1000000.0</td>\n",
       "      <td>700000.0</td>\n",
       "      <td>700000.0</td>\n",
       "      <td>JavaScript Developer(WEB-UI) JavaScript Develo...</td>\n",
       "      <td>3</td>\n",
       "    </tr>\n",
       "  </tbody>\n",
       "</table>\n",
       "</div>"
      ],
      "text/plain": [
       "                          Title                                  Company  \\\n",
       "0             Backend Developer  SatSure Analytics India Private Limited   \n",
       "1           Java/J2EE Developer              Sminetech Solutions Pvt Ltd   \n",
       "2  JavaScript Developer(WEB-UI)                 eifer software solutions   \n",
       "\n",
       "                                                Link Review  \\\n",
       "0  https://in.indeed.com/company/SatSure-Analytic...    0.0   \n",
       "1  https://in.indeed.com/rc/clk?cmp=Sminetech-Sol...    0.0   \n",
       "2  https://in.indeed.com/company/eifer-software-s...    0.0   \n",
       "\n",
       "                          Salary  \\\n",
       "0               ₹6,00,000 a year   \n",
       "1   ₹3,50,000 - ₹5,00,000 a year   \n",
       "2  ₹4,00,000 - ₹10,00,000 a year   \n",
       "\n",
       "                                         Description Rate_by  \\\n",
       "0  Responsibilities Include:\\nCollaborating with ...  Yearly   \n",
       "1  Your Responsibilities:\\nWrite maintainable/sca...  Yearly   \n",
       "2  JavaScript Developer(WEB-UI)\\nLooking for a fr...  Yearly   \n",
       "\n",
       "                low                high       min        max  adjusted_salary  \\\n",
       "0  ₹6,00,000 a year                   0  600000.0        0.0         600000.0   \n",
       "1        ₹3,50,000     ₹5,00,000 a year  350000.0   500000.0         425000.0   \n",
       "2        ₹4,00,000    ₹10,00,000 a year  400000.0  1000000.0         700000.0   \n",
       "\n",
       "   adjusted_yearly_salary                                      combined_text  \\\n",
       "0                600000.0  Backend Developer Responsibilities Include:\\nC...   \n",
       "1                425000.0  Java/J2EE Developer Your Responsibilities:\\nWr...   \n",
       "2                700000.0  JavaScript Developer(WEB-UI) JavaScript Develo...   \n",
       "\n",
       "   Salary_Bins  \n",
       "0            3  \n",
       "1            2  \n",
       "2            3  "
      ]
     },
     "execution_count": 5,
     "metadata": {},
     "output_type": "execute_result"
    }
   ],
   "source": [
    "final_df.head(3)"
   ]
  },
  {
   "cell_type": "code",
   "execution_count": 6,
   "metadata": {},
   "outputs": [
    {
     "data": {
      "text/plain": [
       "Index(['Title', 'Company', 'Link', 'Review', 'Salary', 'Description',\n",
       "       'Rate_by', 'low', 'high', 'min', 'max', 'adjusted_salary',\n",
       "       'adjusted_yearly_salary', 'combined_text', 'Salary_Bins'],\n",
       "      dtype='object')"
      ]
     },
     "execution_count": 6,
     "metadata": {},
     "output_type": "execute_result"
    }
   ],
   "source": [
    "final_df.columns"
   ]
  },
  {
   "cell_type": "markdown",
   "metadata": {},
   "source": [
    "- Here I am only deal with 'combined_text' and 'Salary_Bins' . combined_textis my X and target is my Salary_Bins"
   ]
  },
  {
   "cell_type": "code",
   "execution_count": 7,
   "metadata": {},
   "outputs": [],
   "source": [
    "#Categorical target\n",
    "X = final_df['combined_text']\n",
    "y = final_df['Salary_Bins'].astype('category')"
   ]
  },
  {
   "cell_type": "markdown",
   "metadata": {},
   "source": [
    "## Here I Use TfidfVectorizer to convert X text data to Numeric Data"
   ]
  },
  {
   "cell_type": "code",
   "execution_count": 8,
   "metadata": {},
   "outputs": [],
   "source": [
    "from sklearn.feature_extraction.text import TfidfVectorizer\n",
    "#This works for individual job description, but how to save the model? \n",
    "tdidf = TfidfVectorizer(sublinear_tf = True, min_df=0.01, max_df=0.5, ngram_range=(1,3), stop_words='english')\n",
    "fitted_vectorizer = tdidf.fit(X)\n",
    "X_vect = fitted_vectorizer.transform(X)"
   ]
  },
  {
   "cell_type": "code",
   "execution_count": 9,
   "metadata": {},
   "outputs": [
    {
     "data": {
      "text/plain": [
       "((1021,), (1021,), (1021, 7309))"
      ]
     },
     "execution_count": 9,
     "metadata": {},
     "output_type": "execute_result"
    }
   ],
   "source": [
    "X.shape,y.shape,X_vect.shape"
   ]
  },
  {
   "cell_type": "code",
   "execution_count": 10,
   "metadata": {},
   "outputs": [],
   "source": [
    "from sklearn.model_selection import train_test_split\n",
    "X_train, X_test, y_train, y_test = train_test_split(X_vect, y, test_size=0.25, random_state=4)"
   ]
  },
  {
   "cell_type": "markdown",
   "metadata": {},
   "source": [
    "## Model Build"
   ]
  },
  {
   "cell_type": "code",
   "execution_count": 11,
   "metadata": {},
   "outputs": [],
   "source": [
    "from sklearn.metrics import classification_report"
   ]
  },
  {
   "cell_type": "code",
   "execution_count": 12,
   "metadata": {},
   "outputs": [],
   "source": [
    "def classifier(model,X_train, y_train,X_test,y_test):\n",
    "    model = model.fit(X_train, y_train)\n",
    "    y_pred = model.predict(X_test)\n",
    "    print(classification_report(y_pred,y_test))\n",
    "    \n",
    "    return model"
   ]
  },
  {
   "cell_type": "code",
   "execution_count": 13,
   "metadata": {},
   "outputs": [
    {
     "name": "stdout",
     "output_type": "stream",
     "text": [
      "              precision    recall  f1-score   support\n",
      "\n",
      "           0       0.73      0.68      0.71        44\n",
      "           1       0.70      0.55      0.62        60\n",
      "           2       0.51      0.61      0.56        33\n",
      "           3       0.58      0.60      0.59        58\n",
      "           4       0.56      0.53      0.54        36\n",
      "           5       0.57      0.80      0.67        25\n",
      "\n",
      "    accuracy                           0.61       256\n",
      "   macro avg       0.61      0.63      0.61       256\n",
      "weighted avg       0.62      0.61      0.61       256\n",
      "\n"
     ]
    }
   ],
   "source": [
    "from sklearn.linear_model import SGDClassifier\n",
    "model = SGDClassifier(alpha=0.0001, max_iter=1000, n_jobs=3)\n",
    "model = classifier(model,X_train,y_train,X_test,y_test)"
   ]
  },
  {
   "cell_type": "code",
   "execution_count": null,
   "metadata": {},
   "outputs": [],
   "source": []
  },
  {
   "cell_type": "code",
   "execution_count": null,
   "metadata": {},
   "outputs": [],
   "source": []
  },
  {
   "cell_type": "markdown",
   "metadata": {},
   "source": [
    "## Test The Model"
   ]
  },
  {
   "cell_type": "code",
   "execution_count": 14,
   "metadata": {},
   "outputs": [],
   "source": [
    "#load the model from disk\n",
    "job=\"Data Entry\"\n",
    "# tfidf_vectorizer = pickle.load(open('fitted_vectorizer.pickle','rb'))\n",
    "result = model.predict(fitted_vectorizer.transform([job]))"
   ]
  },
  {
   "cell_type": "code",
   "execution_count": 15,
   "metadata": {},
   "outputs": [
    {
     "name": "stdout",
     "output_type": "stream",
     "text": [
      "[0]\n",
      "Below 50,000\n"
     ]
    }
   ],
   "source": [
    "labels=['Below 50,000','50,000-70,000','70,000-90,000','90,000-120,000','120,000-150,000','150,000 and Above']\n",
    "print(result)\n",
    "print(labels[result[0]])"
   ]
  },
  {
   "cell_type": "markdown",
   "metadata": {},
   "source": [
    "## Model Dump For Production"
   ]
  },
  {
   "cell_type": "code",
   "execution_count": 16,
   "metadata": {},
   "outputs": [],
   "source": [
    "#save the vectorizer to disk\n",
    "pickle.dump(fitted_vectorizer, open(\"fitted_vectorizer.pickle\", \"wb\"))"
   ]
  },
  {
   "cell_type": "code",
   "execution_count": 17,
   "metadata": {},
   "outputs": [
    {
     "data": {
      "text/plain": [
       "['sgdclassifier.joblib']"
      ]
     },
     "execution_count": 17,
     "metadata": {},
     "output_type": "execute_result"
    }
   ],
   "source": [
    "#save the machine model using joblib\n",
    "from joblib import dump, load\n",
    "dump(model, 'sgdclassifier.joblib')"
   ]
  },
  {
   "cell_type": "code",
   "execution_count": 18,
   "metadata": {},
   "outputs": [],
   "source": [
    "clf = load('sgdclassifier.joblib')"
   ]
  },
  {
   "cell_type": "code",
   "execution_count": null,
   "metadata": {},
   "outputs": [],
   "source": []
  },
  {
   "cell_type": "code",
   "execution_count": 19,
   "metadata": {},
   "outputs": [],
   "source": [
    "#load the model from disk\n",
    "job=\"Data Entry\"\n",
    "tfidf_vectorizer = pickle.load(open('fitted_vectorizer.pickle','rb'))\n",
    "result = clf.predict(tfidf_vectorizer.transform([job]))"
   ]
  },
  {
   "cell_type": "code",
   "execution_count": 20,
   "metadata": {},
   "outputs": [
    {
     "name": "stdout",
     "output_type": "stream",
     "text": [
      "[0]\n",
      "Below 50,000\n"
     ]
    }
   ],
   "source": [
    "labels=['Below 50,000','50,000-70,000','70,000-90,000','90,000-120,000','120,000-150,000','150,000 and Above']\n",
    "print(result)\n",
    "print(labels[result[0]])"
   ]
  }
 ],
 "metadata": {
  "kernelspec": {
   "display_name": "Python 3",
   "language": "python",
   "name": "python3"
  },
  "language_info": {
   "codemirror_mode": {
    "name": "ipython",
    "version": 3
   },
   "file_extension": ".py",
   "mimetype": "text/x-python",
   "name": "python",
   "nbconvert_exporter": "python",
   "pygments_lexer": "ipython3",
   "version": "3.7.6"
  }
 },
 "nbformat": 4,
 "nbformat_minor": 4
}
